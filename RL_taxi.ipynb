{
 "cells": [
  {
   "cell_type": "code",
   "execution_count": 1,
   "metadata": {},
   "outputs": [],
   "source": [
    "import gym \n",
    "import numpy as np"
   ]
  },
  {
   "cell_type": "code",
   "execution_count": 30,
   "metadata": {},
   "outputs": [],
   "source": [
    "env = gym.make(\"Taxi-v3\")"
   ]
  },
  {
   "cell_type": "code",
   "execution_count": 31,
   "metadata": {},
   "outputs": [],
   "source": [
    "action_size = env.action_space.n \n",
    "state_size = env.observation_space.n "
   ]
  },
  {
   "cell_type": "code",
   "execution_count": 34,
   "metadata": {},
   "outputs": [],
   "source": [
    "qtable = np.zeros((state_size, action_size))\n"
   ]
  },
  {
   "cell_type": "code",
   "execution_count": 47,
   "metadata": {},
   "outputs": [],
   "source": [
    "episodes = 30000            \n",
    "max_steps = 1000            \n",
    "lr = 0.3                    \n",
    "decay_fac = 0.00001        \n",
    "gamma = 0.90               "
   ]
  },
  {
   "cell_type": "code",
   "execution_count": 48,
   "metadata": {},
   "outputs": [],
   "source": [
    "for episode in range(episodes):\n",
    "    \n",
    "    state = env.reset() \n",
    "    done = False        \n",
    "    lr -= decay_fac     \n",
    "    step = 0\n",
    "\n",
    "    if lr <= 0: \n",
    "        break\n",
    "        \n",
    "    for step in range(max_steps):\n",
    "        \n",
    "        \n",
    "        action = env.action_space.sample()\n",
    "        \n",
    "        new_state, reward, done, info = env.step(action)\n",
    "        \n",
    "        total_reward += reward\n",
    "        \n",
    "        if done == True: \n",
    "            qtable[state, action] = qtable[state, action]+lr*(reward+gamma*0-qtable[state,action])\n",
    "            break\n",
    "        else: \n",
    "            qtable[state, action] = qtable[state,action]+lr*(reward+gamma*np.max(qtable[new_state,:])-qtable[state,action])\n",
    "            \n",
    "        \n",
    "        state = new_state\n",
    "    \n",
    "        \n",
    "    \n",
    "    "
   ]
  },
  {
   "cell_type": "code",
   "execution_count": 54,
   "metadata": {},
   "outputs": [
    {
     "name": "stdout",
     "output_type": "stream",
     "text": [
      "Episode Reward =  -1\n",
      "Episode Reward =  -2\n",
      "Episode Reward =  -3\n",
      "Episode Reward =  -4\n",
      "Episode Reward =  -5\n",
      "Episode Reward =  -6\n",
      "Episode Reward =  -7\n",
      "Episode Reward =  -8\n",
      "Episode Reward =  -9\n",
      "Episode Reward =  11\n"
     ]
    }
   ],
   "source": [
    "state = env.reset()\n",
    "done = False\n",
    "total_reward = 0\n",
    "\n",
    "while(done == False):\n",
    "    action = np.argmax(qtable[state,:]) \n",
    "    state, reward, done, info = env.step(action) \n",
    "    total_reward += reward  \n",
    "    \n",
    "    \n",
    "    print('Episode Reward = ', total_reward)"
   ]
  },
  {
   "cell_type": "code",
   "execution_count": null,
   "metadata": {},
   "outputs": [],
   "source": []
  }
 ],
 "metadata": {
  "kernelspec": {
   "display_name": "Python 3",
   "language": "python",
   "name": "python3"
  },
  "language_info": {
   "codemirror_mode": {
    "name": "ipython",
    "version": 3
   },
   "file_extension": ".py",
   "mimetype": "text/x-python",
   "name": "python",
   "nbconvert_exporter": "python",
   "pygments_lexer": "ipython3",
   "version": "3.9.4"
  }
 },
 "nbformat": 4,
 "nbformat_minor": 5
}
